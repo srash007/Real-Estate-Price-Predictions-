{
 "cells": [
  {
   "cell_type": "markdown",
   "id": "f65732d5",
   "metadata": {},
   "source": [
    "# Prédiction des Prix de l’Immobilier avec Machine Learning\n",
    "\n",
    "## Prédire le prix des maisons en fonction de leurs caractéristiques."
   ]
  },
  {
   "cell_type": "code",
   "execution_count": null,
   "id": "9fe35765",
   "metadata": {},
   "outputs": [],
   "source": []
  }
 ],
 "metadata": {
  "language_info": {
   "name": "python"
  }
 },
 "nbformat": 4,
 "nbformat_minor": 5
}
